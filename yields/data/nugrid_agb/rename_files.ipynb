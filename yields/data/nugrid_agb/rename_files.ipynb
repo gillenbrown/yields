{
 "cells": [
  {
   "cell_type": "code",
   "execution_count": 2,
   "metadata": {
    "collapsed": true
   },
   "outputs": [],
   "source": [
    "import os"
   ]
  },
  {
   "cell_type": "code",
   "execution_count": 4,
   "metadata": {},
   "outputs": [],
   "source": [
    "for item in os.listdir(\".\"):\n",
    "    left_junk = \"synctrans?TARGET=vos:%2F%2Fcadc.nrc.ca!vospace%2Fnugrid%2Fdata%2Fset1ext%2FYield_tables%2F\"\n",
    "    right_junk = \"&DIRECTION=pullFromVoSpace&PROTOCOL=ivo:%2F%2Fivoa.net%2Fvospace%2Fcore#httpget\"\n",
    "    new_item = item.replace(left_junk, \"\")\n",
    "    new_item = new_item.replace(right_junk, \"\")\n",
    "    os.rename(item, new_item)"
   ]
  },
  {
   "cell_type": "code",
   "execution_count": null,
   "metadata": {
    "collapsed": true
   },
   "outputs": [],
   "source": []
  }
 ],
 "metadata": {
  "kernelspec": {
   "display_name": "Python [conda env:general]",
   "language": "python",
   "name": "conda-env-general-py"
  },
  "language_info": {
   "codemirror_mode": {
    "name": "ipython",
    "version": 3
   },
   "file_extension": ".py",
   "mimetype": "text/x-python",
   "name": "python",
   "nbconvert_exporter": "python",
   "pygments_lexer": "ipython3",
   "version": "3.5.3"
  }
 },
 "nbformat": 4,
 "nbformat_minor": 2
}
